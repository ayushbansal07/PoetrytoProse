{
 "cells": [
  {
   "cell_type": "code",
   "execution_count": 123,
   "metadata": {
    "collapsed": true
   },
   "outputs": [],
   "source": [
    "import pandas as pd\n",
    "import numpy as np"
   ]
  },
  {
   "cell_type": "code",
   "execution_count": 124,
   "metadata": {
    "collapsed": true
   },
   "outputs": [],
   "source": [
    "#files = ['01_gs_7650','01_gs_55250',]"
   ]
  },
  {
   "cell_type": "code",
   "execution_count": 125,
   "metadata": {},
   "outputs": [],
   "source": [
    "#table = pd.read_table('./results/model_epoch_{}'.format(file),header=None)[:-2]\n",
    "#table = np.array(table)\n",
    "#table"
   ]
  },
  {
   "cell_type": "code",
   "execution_count": 126,
   "metadata": {},
   "outputs": [],
   "source": [
    "def get_data(table):\n",
    "    data = []\n",
    "    length = len(table)\n",
    "    for i in range(0,length,4):\n",
    "        expected = table[i+1][0].split(\":\",1)[1].strip()\n",
    "        got = table[i+2][0].split(\":\",1)[1].strip()\n",
    "        data.append((expected,got))\n",
    "\n",
    "    #print (data)\n",
    "    return data"
   ]
  },
  {
   "cell_type": "code",
   "execution_count": 127,
   "metadata": {
    "collapsed": true
   },
   "outputs": [],
   "source": [
    "def biGrams(text):\n",
    "    ans = []\n",
    "    length = len(text)\n",
    "    for i in range(0,length-1):\n",
    "        bg = text[i] + \" \" + text[i+1]\n",
    "        ans.append(bg)\n",
    "    return set(ans)"
   ]
  },
  {
   "cell_type": "code",
   "execution_count": 128,
   "metadata": {},
   "outputs": [],
   "source": [
    "def pairwise_metric(data):\n",
    "    sum_prec = 0\n",
    "    sum_recall = 0\n",
    "    m = 0\n",
    "    for each in data:\n",
    "        try:\n",
    "            expected = each[0].split(\" \")\n",
    "            got = each[1].split(\" \")\n",
    "            bg_exp = biGrams(expected)\n",
    "            bg_got = biGrams(got)\n",
    "            intersect = len(bg_exp.intersection(bg_got))\n",
    "            sum_prec += intersect/len(bg_got)\n",
    "            sum_recall += intersect/len(bg_exp)\n",
    "            m += 1\n",
    "        except:\n",
    "            pass\n",
    "        \n",
    "    precision_pairwise = sum_prec/m\n",
    "    recall_pairwise = sum_recall/m\n",
    "    f_score_pairwise = 2*precision_pairwise*recall_pairwise/(precision_pairwise+recall_pairwise)\n",
    "    print(\"Pairwise Precision: \",precision_pairwise)\n",
    "    print(\"Pairwise Recall: \",recall_pairwise)\n",
    "    print(\"Pairwise F-score: \",f_score_pairwise)\n",
    "    return (precision_pairwise,recall_pairwise,f_score_pairwise)"
   ]
  },
  {
   "cell_type": "code",
   "execution_count": 129,
   "metadata": {},
   "outputs": [],
   "source": [
    "#data = get_data(table)\n",
    "#pairwise_metric(data)"
   ]
  },
  {
   "cell_type": "code",
   "execution_count": 130,
   "metadata": {},
   "outputs": [],
   "source": [
    "def lcs(a,b):\n",
    "    l1 = len(a)\n",
    "    l2 = len(b)\n",
    "    mat = np.zeros((l1+1,l2+1))\n",
    "    for i in range(0,l1):\n",
    "        for j in range(0,l2):\n",
    "            if(a[i]==b[j]):\n",
    "                mat[i+1][j+1] = mat[i][j]+1\n",
    "            else:\n",
    "                mat[i+1][j+1] = max(mat[i+1][j],mat[i][j+1])\n",
    "    return mat[l1][l2]\n",
    "                "
   ]
  },
  {
   "cell_type": "code",
   "execution_count": 131,
   "metadata": {
    "collapsed": true
   },
   "outputs": [],
   "source": [
    "def longest_sequence_ratio(data):\n",
    "    sum_prec = 0\n",
    "    sum_recall = 0\n",
    "    m = 0\n",
    "    for each in data:\n",
    "        try:\n",
    "            expected = each[0].split(\" \")\n",
    "            got = each[1].split(\" \")\n",
    "            lcs_score = lcs(expected,got)\n",
    "            sum_prec += lcs_score/len(got)\n",
    "            sum_recall += lcs_score/len(expected)\n",
    "            m += 1\n",
    "        except:\n",
    "            print(\"Error in: \",data)\n",
    "        \n",
    "    precision_lsr = sum_prec/m\n",
    "    recall_lsr = sum_recall/m\n",
    "    f_score_lsr = 2*precision_lsr*recall_lsr/(precision_lsr+recall_lsr)\n",
    "    print(\"LSR Precision: \",precision_lsr)\n",
    "    print(\"LSR Recall: \",recall_lsr)\n",
    "    print(\"LSR F-score: \",f_score_lsr)\n",
    "    return (precision_lsr,recall_lsr,f_score_lsr)"
   ]
  },
  {
   "cell_type": "code",
   "execution_count": 132,
   "metadata": {},
   "outputs": [
    {
     "name": "stdout",
     "output_type": "stream",
     "text": [
      "LSR Precision:  0.97695303826\n",
      "LSR Recall:  0.97695303826\n",
      "LSR F-score:  0.97695303826\n"
     ]
    },
    {
     "data": {
      "text/plain": [
       "(0.97695303825968549, 0.97695303825968549, 0.97695303825968549)"
      ]
     },
     "execution_count": 132,
     "metadata": {},
     "output_type": "execute_result"
    }
   ],
   "source": [
    "longest_sequence_ratio(data)"
   ]
  },
  {
   "cell_type": "code",
   "execution_count": 133,
   "metadata": {
    "collapsed": true
   },
   "outputs": [],
   "source": [
    "def perfect_match_ratio(data):\n",
    "    sum_pmr = 0\n",
    "    m = 0\n",
    "    for each in data:\n",
    "        if each[0] == each[1]:\n",
    "            sum_pmr += 1\n",
    "        m +=1\n",
    "    \n",
    "    pmr = sum_pmr/m\n",
    "    print(\"PMR: \",pmr)\n",
    "    return pmr"
   ]
  },
  {
   "cell_type": "code",
   "execution_count": 134,
   "metadata": {},
   "outputs": [
    {
     "name": "stdout",
     "output_type": "stream",
     "text": [
      "PMR:  0.8715625\n"
     ]
    },
    {
     "data": {
      "text/plain": [
       "0.8715625"
      ]
     },
     "execution_count": 134,
     "metadata": {},
     "output_type": "execute_result"
    }
   ],
   "source": [
    "perfect_match_ratio(data)"
   ]
  },
  {
   "cell_type": "code",
   "execution_count": 135,
   "metadata": {
    "collapsed": true
   },
   "outputs": [],
   "source": [
    "from os import listdir"
   ]
  },
  {
   "cell_type": "code",
   "execution_count": 136,
   "metadata": {
    "collapsed": true
   },
   "outputs": [],
   "source": [
    "files = listdir('./results')"
   ]
  },
  {
   "cell_type": "code",
   "execution_count": 139,
   "metadata": {},
   "outputs": [
    {
     "name": "stdout",
     "output_type": "stream",
     "text": [
      "File name:  model_epoch_03_gs_11580\n",
      "Pairwise Precision:  0.9775922804881587\n",
      "Pairwise Recall:  0.9716114234161545\n",
      "Pairwise F-score:  0.974592676243316\n",
      "LSR Precision:  0.97695303826\n",
      "LSR Recall:  0.97695303826\n",
      "LSR F-score:  0.97695303826\n",
      "PMR:  0.8715625\n",
      "\n",
      "File name:  model_epoch_01_gs_7650\n",
      "Pairwise Precision:  1.0\n",
      "Pairwise Recall:  1.0\n",
      "Pairwise F-score:  1.0\n",
      "LSR Precision:  1.0\n",
      "LSR Recall:  1.0\n",
      "LSR F-score:  1.0\n",
      "PMR:  1.0\n",
      "\n",
      "File name:  model_epoch_04_gs_552500\n",
      "Pairwise Precision:  0.9982909202872484\n",
      "Pairwise Recall:  0.9980471681320182\n",
      "Pairwise F-score:  0.9981690293286085\n",
      "LSR Precision:  0.998282566118\n",
      "LSR Recall:  0.998282566118\n",
      "LSR F-score:  0.998282566118\n",
      "PMR:  0.9934375\n",
      "\n",
      "File name:  model_epoch_02_gs_7720\n",
      "Pairwise Precision:  0.8848122037210603\n",
      "Pairwise Recall:  0.8671612983173125\n",
      "Pairwise F-score:  0.8758978357298828\n",
      "LSR Precision:  0.891518366404\n",
      "LSR Recall:  0.891518366404\n",
      "LSR F-score:  0.891518366404\n",
      "PMR:  0.555625\n",
      "\n",
      "File name:  model_epoch_01_gs_55250\n",
      "Pairwise Precision:  0.7315140245458651\n",
      "Pairwise Recall:  0.726646439743542\n",
      "Pairwise F-score:  0.7290721077364549\n",
      "LSR Precision:  0.767303305977\n",
      "LSR Recall:  0.767303305977\n",
      "LSR F-score:  0.767303305977\n",
      "PMR:  0.3875\n",
      "\n"
     ]
    }
   ],
   "source": [
    "f = open(\"EvaluationMetrics.txt\",\"w+\")\n",
    "for file in files:\n",
    "    table = pd.read_table('./results/{}'.format(file),header=None)[:-2]\n",
    "    table = np.array(table)\n",
    "    data = get_data(table)\n",
    "    print(\"File name: \",file)\n",
    "    pairstat = pairwise_metric(data)\n",
    "    lsrstat = longest_sequence_ratio(data)\n",
    "    pmr = perfect_match_ratio(data)\n",
    "    print()\n",
    "    f.write(\"File name: {}\\n\\n\".format(file))\n",
    "    f.write(\"Pairwise Precision: {}\\n\".format(pairstat[0]))\n",
    "    f.write(\"Pairwise Recall: {}\\n\".format(pairstat[1]))\n",
    "    f.write(\"Pairwise F-Score: {}\\n\".format(pairstat[2]))\n",
    "    f.write(\"\\n\")\n",
    "    f.write(\"LSR Precision: {}\\n\".format(lsrstat[0]))\n",
    "    f.write(\"LSR Recall: {}\\n\".format(lsrstat[1]))\n",
    "    f.write(\"LSR F-Score: {}\\n\".format(lsrstat[2]))\n",
    "    f.write(\"\\n\")\n",
    "    f.write(\"PMR: {}\\n\".format(pmr))\n",
    "    f.write(\"--------------------------\\n\")\n",
    "    \n",
    "f.close()"
   ]
  },
  {
   "cell_type": "code",
   "execution_count": null,
   "metadata": {
    "collapsed": true
   },
   "outputs": [],
   "source": []
  },
  {
   "cell_type": "code",
   "execution_count": null,
   "metadata": {
    "collapsed": true
   },
   "outputs": [],
   "source": []
  },
  {
   "cell_type": "code",
   "execution_count": null,
   "metadata": {
    "collapsed": true
   },
   "outputs": [],
   "source": []
  },
  {
   "cell_type": "code",
   "execution_count": null,
   "metadata": {
    "collapsed": true
   },
   "outputs": [],
   "source": []
  }
 ],
 "metadata": {
  "kernelspec": {
   "display_name": "Python 3",
   "language": "python",
   "name": "python3"
  },
  "language_info": {
   "codemirror_mode": {
    "name": "ipython",
    "version": 3
   },
   "file_extension": ".py",
   "mimetype": "text/x-python",
   "name": "python",
   "nbconvert_exporter": "python",
   "pygments_lexer": "ipython3",
   "version": "3.6.1"
  }
 },
 "nbformat": 4,
 "nbformat_minor": 2
}
