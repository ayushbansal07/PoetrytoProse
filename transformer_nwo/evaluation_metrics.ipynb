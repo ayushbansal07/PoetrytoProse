{
 "cells": [
  {
   "cell_type": "code",
   "execution_count": 6,
   "metadata": {
    "collapsed": true
   },
   "outputs": [],
   "source": [
    "import pandas as pd\n",
    "import numpy as np"
   ]
  },
  {
   "cell_type": "code",
   "execution_count": 7,
   "metadata": {
    "collapsed": true
   },
   "outputs": [],
   "source": [
    "#files = ['01_gs_7650','01_gs_55250',]"
   ]
  },
  {
   "cell_type": "code",
   "execution_count": 8,
   "metadata": {
    "collapsed": true
   },
   "outputs": [],
   "source": [
    "#table = pd.read_table('./results/model_epoch_{}'.format(file),header=None)[:-2]\n",
    "#table = np.array(table)\n",
    "#table"
   ]
  },
  {
   "cell_type": "code",
   "execution_count": 9,
   "metadata": {
    "collapsed": true
   },
   "outputs": [],
   "source": [
    "def get_data(table):\n",
    "    data = []\n",
    "    length = len(table)\n",
    "    for i in range(0,length,4):\n",
    "        expected = table[i+1][0].split(\":\",1)[1].strip()\n",
    "        got = table[i+2][0].split(\":\",1)[1].strip()\n",
    "        data.append((expected,got))\n",
    "\n",
    "    #print (data)\n",
    "    return data"
   ]
  },
  {
   "cell_type": "code",
   "execution_count": 10,
   "metadata": {},
   "outputs": [],
   "source": [
    "def biGrams(text):\n",
    "    ans = []\n",
    "    length = len(text)\n",
    "    for i in range(0,length-1):\n",
    "        for j in range(1, length):\n",
    "            bg = (text[i] + \" \" + text[j],j-i)\n",
    "            ans.append(bg)\n",
    "    return set(ans)\n"
   ]
  },
  {
   "cell_type": "code",
   "execution_count": 11,
   "metadata": {
    "collapsed": true
   },
   "outputs": [],
   "source": [
    "def pairwise_metric(data):\n",
    "    sum_prec = 0\n",
    "    sum_recall = 0\n",
    "    m = 0\n",
    "    for each in data:\n",
    "        try:\n",
    "            expected = each[0].split(\" \")\n",
    "            got = each[1].split(\" \")\n",
    "            bg_exp = biGrams(expected)\n",
    "            bg_got = biGrams(got)\n",
    "            intersect = len(bg_exp.intersection(bg_got))\n",
    "            sum_prec += intersect/len(bg_got)\n",
    "            sum_recall += intersect/len(bg_exp)\n",
    "            m += 1\n",
    "        except:\n",
    "            pass\n",
    "        \n",
    "    precision_pairwise = sum_prec/m\n",
    "    recall_pairwise = sum_recall/m\n",
    "    f_score_pairwise = 2*precision_pairwise*recall_pairwise/(precision_pairwise+recall_pairwise)\n",
    "    print(\"Pairwise Precision: \",precision_pairwise)\n",
    "    print(\"Pairwise Recall: \",recall_pairwise)\n",
    "    print(\"Pairwise F-score: \",f_score_pairwise)\n",
    "    return (precision_pairwise,recall_pairwise,f_score_pairwise)"
   ]
  },
  {
   "cell_type": "code",
   "execution_count": 12,
   "metadata": {
    "collapsed": true
   },
   "outputs": [],
   "source": [
    "#data = get_data(table)\n",
    "#pairwise_metric(data)"
   ]
  },
  {
   "cell_type": "code",
   "execution_count": 13,
   "metadata": {
    "collapsed": true
   },
   "outputs": [],
   "source": [
    "def lcs(a,b):\n",
    "    l1 = len(a)\n",
    "    l2 = len(b)\n",
    "    mat = np.zeros((l1+1,l2+1))\n",
    "    for i in range(0,l1):\n",
    "        for j in range(0,l2):\n",
    "            if(a[i]==b[j]):\n",
    "                mat[i+1][j+1] = mat[i][j]+1\n",
    "            else:\n",
    "                mat[i+1][j+1] = max(mat[i+1][j],mat[i][j+1])\n",
    "    return mat[l1][l2]\n",
    "                "
   ]
  },
  {
   "cell_type": "code",
   "execution_count": 14,
   "metadata": {
    "collapsed": true
   },
   "outputs": [],
   "source": [
    "def longest_sequence_ratio(data):\n",
    "    sum_prec = 0\n",
    "    sum_recall = 0\n",
    "    m = 0\n",
    "    for each in data:\n",
    "        try:\n",
    "            expected = each[0].split(\" \")\n",
    "            got = each[1].split(\" \")\n",
    "            lcs_score = lcs(expected,got)\n",
    "            sum_prec += lcs_score/len(got)\n",
    "            sum_recall += lcs_score/len(expected)\n",
    "            m += 1\n",
    "        except:\n",
    "            print(\"Error in: \",data)\n",
    "        \n",
    "    precision_lsr = sum_prec/m\n",
    "    recall_lsr = sum_recall/m\n",
    "    f_score_lsr = 2*precision_lsr*recall_lsr/(precision_lsr+recall_lsr)\n",
    "    print(\"LSR Precision: \",precision_lsr)\n",
    "    print(\"LSR Recall: \",recall_lsr)\n",
    "    print(\"LSR F-score: \",f_score_lsr)\n",
    "    return (precision_lsr,recall_lsr,f_score_lsr)"
   ]
  },
  {
   "cell_type": "code",
   "execution_count": 16,
   "metadata": {},
   "outputs": [],
   "source": [
    "#longest_sequence_ratio(data)"
   ]
  },
  {
   "cell_type": "code",
   "execution_count": 17,
   "metadata": {
    "collapsed": true
   },
   "outputs": [],
   "source": [
    "def perfect_match_ratio(data):\n",
    "    sum_pmr = 0\n",
    "    m = 0\n",
    "    for each in data:\n",
    "        if each[0] == each[1]:\n",
    "            sum_pmr += 1\n",
    "        m +=1\n",
    "    \n",
    "    pmr = sum_pmr/m\n",
    "    print(\"PMR: \",pmr)\n",
    "    return pmr"
   ]
  },
  {
   "cell_type": "code",
   "execution_count": 19,
   "metadata": {},
   "outputs": [],
   "source": [
    "#perfect_match_ratio(data)"
   ]
  },
  {
   "cell_type": "code",
   "execution_count": 20,
   "metadata": {
    "collapsed": true
   },
   "outputs": [],
   "source": [
    "from os import listdir"
   ]
  },
  {
   "cell_type": "code",
   "execution_count": 21,
   "metadata": {
    "collapsed": true
   },
   "outputs": [],
   "source": [
    "files = listdir('./results')"
   ]
  },
  {
   "cell_type": "code",
   "execution_count": 22,
   "metadata": {},
   "outputs": [
    {
     "name": "stdout",
     "output_type": "stream",
     "text": [
      "File name:  model_epoch_03_gs_11580\n",
      "Pairwise Precision:  0.9390801988454275\n",
      "Pairwise Recall:  0.9382152695317001\n",
      "Pairwise F-score:  0.9386475349384377\n",
      "LSR Precision:  0.97695303826\n",
      "LSR Recall:  0.97695303826\n",
      "LSR F-score:  0.97695303826\n",
      "PMR:  0.8715625\n",
      "\n",
      "File name:  model_epoch_01_gs_7650\n",
      "Pairwise Precision:  1.0\n",
      "Pairwise Recall:  1.0\n",
      "Pairwise F-score:  1.0\n",
      "LSR Precision:  1.0\n",
      "LSR Recall:  1.0\n",
      "LSR F-score:  1.0\n",
      "PMR:  1.0\n",
      "\n",
      "File name:  model_epoch_04_gs_552500\n",
      "Pairwise Precision:  0.9963184064932022\n",
      "Pairwise Recall:  0.9962835083153966\n",
      "Pairwise F-score:  0.9963009570986984\n",
      "LSR Precision:  0.998282566118\n",
      "LSR Recall:  0.998282566118\n",
      "LSR F-score:  0.998282566118\n",
      "PMR:  0.9934375\n",
      "\n",
      "File name:  model_epoch_02_gs_7720\n",
      "Pairwise Precision:  0.7488668323607695\n",
      "Pairwise Recall:  0.7463537484335857\n",
      "Pairwise F-score:  0.747608178471049\n",
      "LSR Precision:  0.891518366404\n",
      "LSR Recall:  0.891518366404\n",
      "LSR F-score:  0.891518366404\n",
      "PMR:  0.555625\n",
      "\n",
      "File name:  model_epoch_01_gs_55250\n",
      "Pairwise Precision:  0.5870421525752152\n",
      "Pairwise Recall:  0.5864407958433212\n",
      "Pairwise F-score:  0.5867413201252571\n",
      "LSR Precision:  0.767303305977\n",
      "LSR Recall:  0.767303305977\n",
      "LSR F-score:  0.767303305977\n",
      "PMR:  0.3875\n",
      "\n"
     ]
    }
   ],
   "source": [
    "f = open(\"EvaluationMetrics.txt\",\"w+\")\n",
    "for file in files:\n",
    "    table = pd.read_table('./results/{}'.format(file),header=None)[:-2]\n",
    "    table = np.array(table)\n",
    "    data = get_data(table)\n",
    "    print(\"File name: \",file)\n",
    "    pairstat = pairwise_metric(data)\n",
    "    lsrstat = longest_sequence_ratio(data)\n",
    "    pmr = perfect_match_ratio(data)\n",
    "    print()\n",
    "    f.write(\"File name: {}\\n\\n\".format(file))\n",
    "    f.write(\"Pairwise Precision: {}\\n\".format(pairstat[0]))\n",
    "    f.write(\"Pairwise Recall: {}\\n\".format(pairstat[1]))\n",
    "    f.write(\"Pairwise F-Score: {}\\n\".format(pairstat[2]))\n",
    "    f.write(\"\\n\")\n",
    "    f.write(\"LSR Precision: {}\\n\".format(lsrstat[0]))\n",
    "    f.write(\"LSR Recall: {}\\n\".format(lsrstat[1]))\n",
    "    f.write(\"LSR F-Score: {}\\n\".format(lsrstat[2]))\n",
    "    f.write(\"\\n\")\n",
    "    f.write(\"PMR: {}\\n\".format(pmr))\n",
    "    f.write(\"--------------------------\\n\")\n",
    "    \n",
    "f.close()"
   ]
  },
  {
   "cell_type": "code",
   "execution_count": null,
   "metadata": {
    "collapsed": true
   },
   "outputs": [],
   "source": []
  },
  {
   "cell_type": "code",
   "execution_count": null,
   "metadata": {
    "collapsed": true
   },
   "outputs": [],
   "source": []
  },
  {
   "cell_type": "code",
   "execution_count": null,
   "metadata": {
    "collapsed": true
   },
   "outputs": [],
   "source": []
  },
  {
   "cell_type": "code",
   "execution_count": null,
   "metadata": {
    "collapsed": true
   },
   "outputs": [],
   "source": []
  },
  {
   "cell_type": "code",
   "execution_count": null,
   "metadata": {
    "collapsed": true
   },
   "outputs": [],
   "source": []
  },
  {
   "cell_type": "code",
   "execution_count": null,
   "metadata": {
    "collapsed": true
   },
   "outputs": [],
   "source": []
  },
  {
   "cell_type": "code",
   "execution_count": null,
   "metadata": {
    "collapsed": true
   },
   "outputs": [],
   "source": []
  },
  {
   "cell_type": "code",
   "execution_count": null,
   "metadata": {
    "collapsed": true
   },
   "outputs": [],
   "source": []
  },
  {
   "cell_type": "code",
   "execution_count": null,
   "metadata": {
    "collapsed": true
   },
   "outputs": [],
   "source": []
  },
  {
   "cell_type": "code",
   "execution_count": null,
   "metadata": {
    "collapsed": true
   },
   "outputs": [],
   "source": []
  },
  {
   "cell_type": "code",
   "execution_count": null,
   "metadata": {
    "collapsed": true
   },
   "outputs": [],
   "source": []
  }
 ],
 "metadata": {
  "kernelspec": {
   "display_name": "Python 3",
   "language": "python",
   "name": "python3"
  },
  "language_info": {
   "codemirror_mode": {
    "name": "ipython",
    "version": 3
   },
   "file_extension": ".py",
   "mimetype": "text/x-python",
   "name": "python",
   "nbconvert_exporter": "python",
   "pygments_lexer": "ipython3",
   "version": "3.6.1"
  }
 },
 "nbformat": 4,
 "nbformat_minor": 2
}
